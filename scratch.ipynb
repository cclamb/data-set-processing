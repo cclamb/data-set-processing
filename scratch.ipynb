{
 "cells": [
  {
   "cell_type": "code",
   "execution_count": 56,
   "metadata": {
    "collapsed": false
   },
   "outputs": [
    {
     "name": "stdout",
     "output_type": "stream",
     "text": [
      "--Return--\n",
      "None\n",
      "> \u001b[0;32m<ipython-input-56-2010956becb6>\u001b[0m(73)\u001b[0;36m<module>\u001b[0;34m()\u001b[0m\n",
      "\u001b[0;32m     72 \u001b[0;31m\u001b[0;34m\u001b[0m\u001b[0m\n",
      "\u001b[0m\u001b[0;32m---> 73 \u001b[0;31m\u001b[0mipdb\u001b[0m\u001b[0;34m.\u001b[0m\u001b[0mset_trace\u001b[0m\u001b[0;34m(\u001b[0m\u001b[0;34m)\u001b[0m\u001b[0;34m\u001b[0m\u001b[0m\n",
      "\u001b[0m\u001b[0;32m     74 \u001b[0;31m\u001b[0;34m\u001b[0m\u001b[0m\n",
      "\u001b[0m\n",
      "ipdb> results\n",
      "[(['training set'], ['validation set'], ['testing set']), (['training set'], ['validation set'], ['testing set'])]\n",
      "ipdb> c\n",
      "finished\n"
     ]
    }
   ],
   "source": [
    "import ipdb\n",
    "import os\n",
    "import multiprocessing\n",
    "\n",
    "from PIL import Image\n",
    "\n",
    "IMAGE_HEIGHT = 128\n",
    "IMAGE_WIDTH = 128\n",
    "MAX_VALUE = 255\n",
    "\n",
    "DIRECTORY = 'data/mnist-sd19/BY_CLASS/30/'\n",
    "FILENAME = 'data/mnist-sd19/BY_CLASS/30/HSF_0_00001-00250.png'\n",
    "\n",
    "def extract_files(directory):\n",
    "    train_files, test_files, valid_files = [], [], []\n",
    "    for file in os.listdir(directory):\n",
    "        if file.endswith('.png') and file.startswith('TRAIN'):\n",
    "            train_files.append(file)\n",
    "        elif file.endswith('.png') and file.startswith('HSF_4'):\n",
    "            test_files.append(file)\n",
    "        elif file.endswith('.png') and file.startswith('HSF'):\n",
    "            valid_files.append(file)\n",
    "    return train_files, test_files, valid_files\n",
    "\n",
    "\n",
    "def process_file(directory, filename):\n",
    "    record = Image.open(directory + filename)\n",
    "    record_size = record.size;\n",
    "    images = []\n",
    "    print 'processing %s' % directory + filename\n",
    "    for i in xrange(record_size[1]/IMAGE_HEIGHT):\n",
    "        box = (0, IMAGE_HEIGHT * i, IMAGE_WIDTH, IMAGE_HEIGHT * (i + 1))\n",
    "        crop = record.crop(box)\n",
    "        pixels = crop.load()\n",
    "        data = []\n",
    "        for i in xrange(IMAGE_HEIGHT):\n",
    "            for j in xrange(IMAGE_WIDTH):\n",
    "                data.append(pixels[i, j] / MAX_VALUE)\n",
    "        images.append(data)\n",
    "    return images\n",
    "\n",
    "def process_images():\n",
    "    tr, te, va = extract_files(DIRECTORY)\n",
    "\n",
    "#     # Process the image files\n",
    "#     tri = [process_file(DIRECTORY, file) for file in tr]\n",
    "#     tei = [process_file(DIRECTORY, file) for file in te]\n",
    "#     vai = [process_file(DIRECTORY, file) for file in va]\n",
    "\n",
    "#     # Flatten the generated lists\n",
    "#     training_set = [image for sublist in tri for image in sublist]\n",
    "#     testing_set = [image for sublist in tei for image in sublist]\n",
    "#     validation_set = [image for sublist in vai for image in sublist]\n",
    "#     return training_set, validation_set, testing_set\n",
    "    return ['training set'], ['validation set'], ['testing set']\n",
    "\n",
    "def image_processor(queue):\n",
    "    tr, va, te = process_images()\n",
    "    queue.put((tr, va, te))\n",
    "        \n",
    "result_queue = multiprocessing.Queue()\n",
    "processors = [image_processor, image_processor]\n",
    "jobs = [multiprocessing.Process(target=p, args=(result_queue,)) for p in processors]\n",
    "\n",
    "for job in jobs: \n",
    "    job.start()\n",
    "    \n",
    "for job in jobs: \n",
    "    job.join()\n",
    "    \n",
    "results = [result_queue.get() for p in processors]\n",
    "\n",
    "ipdb.set_trace()\n",
    "\n",
    "print 'finished'\n"
   ]
  }
 ],
 "metadata": {
  "kernelspec": {
   "display_name": "Python 2",
   "language": "python",
   "name": "python2"
  },
  "language_info": {
   "codemirror_mode": {
    "name": "ipython",
    "version": 2
   },
   "file_extension": ".py",
   "mimetype": "text/x-python",
   "name": "python",
   "nbconvert_exporter": "python",
   "pygments_lexer": "ipython2",
   "version": "2.7.10"
  }
 },
 "nbformat": 4,
 "nbformat_minor": 0
}
